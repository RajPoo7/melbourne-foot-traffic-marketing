{
 "cells": [
  {
   "cell_type": "markdown",
   "id": "a922e115",
   "metadata": {},
   "source": [
    "# 05 — Export for Looker Studio"
   ]
  },
  {
   "cell_type": "code",
   "execution_count": null,
   "id": "4bf62969",
   "metadata": {},
   "outputs": [],
   "source": [
    "print('TODO')"
   ]
  }
 ],
 "metadata": {},
 "nbformat": 4,
 "nbformat_minor": 5
}
