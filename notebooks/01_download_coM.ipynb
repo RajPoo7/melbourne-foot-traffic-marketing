{
 "cells": [
  {
   "cell_type": "markdown",
   "id": "b2e3ee7a",
   "metadata": {},
   "source": [
    "# 01 — Download City of Melbourne Pedestrian Counts"
   ]
  },
  {
   "cell_type": "code",
   "execution_count": null,
   "id": "cd9913d6",
   "metadata": {},
   "outputs": [],
   "source": [
    "print('TODO')"
   ]
  }
 ],
 "metadata": {},
 "nbformat": 4,
 "nbformat_minor": 5
}
